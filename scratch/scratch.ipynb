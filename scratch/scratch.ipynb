{
 "cells": [
  {
   "cell_type": "code",
   "execution_count": 33,
   "metadata": {},
   "outputs": [],
   "source": [
    "import pandas as pd\n",
    "import json\n",
    "\n",
    "# data is in standard json format:\n",
    "data = []\n",
    "\n",
    "with open('Sarcasm_Headlines_Dataset_v2.json', 'r') as f:\n",
    "    for line in f:\n",
    "        json_object = json.loads(line)\n",
    "        data.append(json_object)\n",
    "\n",
    "df1 = pd.DataFrame(data)\n",
    "\n",
    "data = []\n",
    "\n",
    "with open('Sarcasm_Headlines_Dataset.json', 'r') as f:\n",
    "    for line in f:\n",
    "        json_object = json.loads(line)\n",
    "        data.append(json_object)\n",
    "\n",
    "df2 = pd.DataFrame(data)\n",
    "\n",
    "df = pd.concat([df1,df2])\n",
    "df = df.drop_duplicates()\n",
    "df = df.dropna()\n",
    "df = df.drop(columns='article_link')"
   ]
  },
  {
   "cell_type": "code",
   "execution_count": 57,
   "metadata": {},
   "outputs": [
    {
     "name": "stdout",
     "output_type": "stream",
     "text": [
      "(28617, 2)\n"
     ]
    }
   ],
   "source": [
    "print(df.shape)"
   ]
  },
  {
   "cell_type": "code",
   "execution_count": 52,
   "metadata": {},
   "outputs": [
    {
     "name": "stdout",
     "output_type": "stream",
     "text": [
      "sarcastic count: 13633\n",
      "serious count: 14984\n"
     ]
    }
   ],
   "source": [
    "sarcastic_headlines = df[df['is_sarcastic'] == 1]['headline'].tolist()\n",
    "serious_headlines = df[df['is_sarcastic'] == 0]['headline'].tolist()\n",
    "\n",
    "print(\"sarcastic count:\", len(sarcastic_headlines))\n",
    "print(\"serious count:\", len(serious_headlines))\n"
   ]
  },
  {
   "cell_type": "code",
   "execution_count": 56,
   "metadata": {},
   "outputs": [
    {
     "name": "stdout",
     "output_type": "stream",
     "text": [
      "thirtysomething scientists unveil doomsday clock of hair loss\n",
      "dem rep. totally nails why congress is falling short on gender, racial equality\n"
     ]
    }
   ],
   "source": [
    "print(f\"{sarcastic_headlines[0]}\\n{serious_headlines[0]}\")"
   ]
  }
 ],
 "metadata": {
  "kernelspec": {
   "display_name": "tf",
   "language": "python",
   "name": "python3"
  },
  "language_info": {
   "codemirror_mode": {
    "name": "ipython",
    "version": 3
   },
   "file_extension": ".py",
   "mimetype": "text/x-python",
   "name": "python",
   "nbconvert_exporter": "python",
   "pygments_lexer": "ipython3",
   "version": "3.9.17"
  }
 },
 "nbformat": 4,
 "nbformat_minor": 2
}
