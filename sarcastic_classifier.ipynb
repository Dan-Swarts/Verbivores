{
  "cells": [
    {
      "cell_type": "markdown",
      "metadata": {
        "id": "lKdotlHXlTYk"
      },
      "source": [
        "# Fine-tune a pretrained model"
      ]
    },
    {
      "cell_type": "markdown",
      "metadata": {},
      "source": [
        "Dataset: https://huggingface.co/datasets/raquiba/Sarcasm_News_Headline\n",
        "\n",
        "Model: https://huggingface.co/bert-base-uncased"
      ]
    },
    {
      "cell_type": "code",
      "execution_count": 1,
      "metadata": {},
      "outputs": [
        {
          "data": {
            "text/plain": [
              "'cuda:0'"
            ]
          },
          "execution_count": 1,
          "metadata": {},
          "output_type": "execute_result"
        }
      ],
      "source": [
        "# set GPU as device\n",
        "import torch\n",
        "\n",
        "device = \"cuda:0\" if torch.cuda.is_available() else \"cpu\"\n",
        "device"
      ]
    },
    {
      "cell_type": "markdown",
      "metadata": {
        "id": "whNgRivFlTYm"
      },
      "source": [
        "## Prepare Dataset"
      ]
    },
    {
      "cell_type": "code",
      "execution_count": 17,
      "metadata": {
        "id": "KkCL9o4tlTYn",
        "outputId": "fe84c458-b697-42fa-8da6-100bcec3ead7"
      },
      "outputs": [
        {
          "name": "stderr",
          "output_type": "stream",
          "text": [
            "Repo card metadata block was not found. Setting CardData to empty.\n"
          ]
        },
        {
          "name": "stdout",
          "output_type": "stream",
          "text": [
            "<class 'datasets.dataset_dict.DatasetDict'>\n"
          ]
        },
        {
          "name": "stderr",
          "output_type": "stream",
          "text": [
            "Map: 100%|██████████| 28619/28619 [00:01<00:00, 26824.17 examples/s]\n",
            "Map: 100%|██████████| 26709/26709 [00:00<00:00, 29803.13 examples/s]"
          ]
        },
        {
          "name": "stdout",
          "output_type": "stream",
          "text": [
            "{'text': 'eat your veggies: 9 deliciously different recipes', 'label': 0}\n"
          ]
        },
        {
          "name": "stderr",
          "output_type": "stream",
          "text": [
            "\n"
          ]
        }
      ],
      "source": [
        "from datasets import load_dataset\n",
        "\n",
        "\n",
        "\n",
        "dataset = load_dataset(\"raquiba/Sarcasm_News_Headline\")\n",
        "\n",
        "print(type(dataset))\n",
        "\n",
        "# slight refactor\n",
        "def refactor_dataset(example):\n",
        "    \n",
        "    # delete the unnecessary 'article_link' field\n",
        "    del example['article_link']\n",
        "\n",
        "    # rename 'headline' field to 'text'\n",
        "    example['text'] = example.pop('headline')\n",
        "\n",
        "    # rename 'is_sarcastic' field to 'label'\n",
        "    example['label'] = example.pop('is_sarcastic')\n",
        "\n",
        "    return example\n",
        "\n",
        "dataset = dataset.map(refactor_dataset)\n",
        "\n",
        "example = dataset[\"train\"][2]\n",
        "print(example)"
      ]
    },
    {
      "cell_type": "markdown",
      "metadata": {},
      "source": [
        "## Preprocessing"
      ]
    },
    {
      "cell_type": "markdown",
      "metadata": {},
      "source": [
        "In the preprocessing stage, I define the tokenizer as it applies to the dataset. I used the same tokenizer from the original AI model, for consistency."
      ]
    },
    {
      "cell_type": "code",
      "execution_count": 18,
      "metadata": {
        "id": "5R9vNZnplTYo"
      },
      "outputs": [
        {
          "name": "stderr",
          "output_type": "stream",
          "text": [
            "Map: 100%|██████████| 28619/28619 [00:00<00:00, 54591.78 examples/s]\n",
            "Map: 100%|██████████| 26709/26709 [00:00<00:00, 57068.17 examples/s]\n",
            "2023-11-21 15:19:30.514460: I tensorflow/core/platform/cpu_feature_guard.cc:182] This TensorFlow binary is optimized to use available CPU instructions in performance-critical operations.\n",
            "To enable the following instructions: AVX2 FMA, in other operations, rebuild TensorFlow with the appropriate compiler flags.\n",
            "2023-11-21 15:19:31.556805: W tensorflow/compiler/tf2tensorrt/utils/py_utils.cc:38] TF-TRT Warning: Could not find TensorRT\n"
          ]
        }
      ],
      "source": [
        "# grab the same tokenizer used to pretrain the original dataset\n",
        "from transformers import AutoTokenizer\n",
        "tokenizer = AutoTokenizer.from_pretrained(\"bert-base-cased\")\n",
        "\n",
        "# create tokenizer function\n",
        "def tokenize_function(examples):\n",
        "    return tokenizer(examples[\"text\"], truncation=True)\n",
        "\n",
        "# apply tokenizer to the dataset\n",
        "tokenized_datasets = dataset.map(tokenize_function, batched=True)\n",
        "\n",
        "# prepare a collator with dynamic padding\n",
        "from transformers import DataCollatorWithPadding\n",
        "data_collator = DataCollatorWithPadding(tokenizer=tokenizer)"
      ]
    },
    {
      "cell_type": "code",
      "execution_count": 20,
      "metadata": {},
      "outputs": [],
      "source": [
        "small_train_dataset = tokenized_datasets[\"train\"]\n",
        "small_train_dataset = tokenized_datasets[\"test\"]"
      ]
    },
    {
      "cell_type": "markdown",
      "metadata": {
        "id": "Eak43NgnlTYo"
      },
      "source": [
        "<a id='trainer'></a>"
      ]
    },
    {
      "cell_type": "markdown",
      "metadata": {},
      "source": [
        "## Evaluation method"
      ]
    },
    {
      "cell_type": "code",
      "execution_count": 21,
      "metadata": {},
      "outputs": [],
      "source": [
        "import numpy as np\n",
        "import evaluate\n",
        "\n",
        "metric = evaluate.load(\"accuracy\")"
      ]
    },
    {
      "cell_type": "code",
      "execution_count": 22,
      "metadata": {},
      "outputs": [],
      "source": [
        "def compute_metrics(eval_pred):\n",
        "    logits, labels = eval_pred\n",
        "    predictions = np.argmax(logits, axis=-1)\n",
        "    return metric.compute(predictions=predictions, references=labels)"
      ]
    },
    {
      "cell_type": "markdown",
      "metadata": {},
      "source": [
        "## Model Training"
      ]
    },
    {
      "cell_type": "markdown",
      "metadata": {},
      "source": [
        "here I will grab the pretrained bert-base-cased model to be fine-tuned. I am specifying that there are 2 labels for binary classification: 0 for negative, and 1 for positive."
      ]
    },
    {
      "cell_type": "code",
      "execution_count": 23,
      "metadata": {},
      "outputs": [
        {
          "name": "stderr",
          "output_type": "stream",
          "text": [
            "Some weights of BertForSequenceClassification were not initialized from the model checkpoint at bert-base-cased and are newly initialized: ['classifier.bias', 'classifier.weight']\n",
            "You should probably TRAIN this model on a down-stream task to be able to use it for predictions and inference.\n"
          ]
        }
      ],
      "source": [
        "from transformers import AutoModelForSequenceClassification\n",
        "\n",
        "\n",
        "id2label = {0: \"NOT_SARCASTIC\", 1: \"SARCASTIC\"}\n",
        "label2id = {\"NOT_SARCASTIC\": 0, \"SARCASTIC\": 1}\n",
        "\n",
        "model = AutoModelForSequenceClassification.from_pretrained(\n",
        "    \"bert-base-cased\", \n",
        "    num_labels=2,\n",
        "    id2label=id2label, \n",
        "    label2id=label2id\n",
        ")"
      ]
    },
    {
      "cell_type": "code",
      "execution_count": 24,
      "metadata": {},
      "outputs": [],
      "source": [
        "from transformers import Trainer\n",
        "import time\n",
        "import math\n",
        "from tqdm import tqdm\n",
        "\n",
        "class CustomTrainer(Trainer):\n",
        "    def _inner_training_loop (\n",
        "        self,\n",
        "        batch_size = None, \n",
        "        args = None, \n",
        "        resume_from_checkpoint = None, \n",
        "        trial = None,\n",
        "        ignore_keys_for_eval = None\n",
        "    ):\n",
        "        \n",
        "        number_of_epochs = args.num_train_epochs\n",
        "        start = time.time()\n",
        "        train_loss = []\n",
        "        train_acc = []\n",
        "        eval_acc = []\n",
        "\n",
        "        criterion = torch.nn.CrossEntropyLoss().to(device)\n",
        "        self.optimizer = torch.optim.Adam(model.parameters(), lr = args.learning_rate)\n",
        "        self.scheduler = torch.optim.lr_scheduler.StepLR(self.optimizer, 1, gamma = 0.9)\n",
        "\n",
        "        train_dataloader = self.get_train_dataloader()\n",
        "        eval_dataloader = self.get_eval_dataloader()\n",
        "\n",
        "        max_steps = math.ceil(args.num_train_epochs * len(train_dataloader))\n",
        "        for epoch in range(number_of_epochs):\n",
        "            train_loss_per_epoch = 0\n",
        "            train_acc_per_epoch = 0\n",
        "            with tqdm(train_dataloader, unit =  \"batch\") as training_epoch:\n",
        "                training_epoch.set_description(f\"Training Epoch {epoch}\")\n",
        "\n",
        "                for step, inputs in enumerate(training_epoch):\n",
        "                    inputs = inputs.to(device)\n",
        "                    labels = inputs['labels']\n",
        "\n",
        "                    # forward pass\n",
        "                    self.optimizer.zero_grad()\n",
        "                    output = model(**inputs)\n",
        "                    logits = output.logits\n",
        "\n",
        "                    # get the loss\n",
        "                    loss = criterion(logits, labels)\n",
        "                    train_loss_per_epoch += loss.item()\n",
        "\n",
        "                    # calculate gradients\n",
        "                    loss.backward()\n",
        "                    # update weights\n",
        "                    self.optimizer.step()\n",
        "                    train_acc_per_epoch += (output['logits'].argmax(1) == labels).sum().item()\n",
        "\n",
        "                # adjust the learning rate\n",
        "                self.scheduler.step()\n",
        "                train_loss_per_epoch /= len(train_dataloader)\n",
        "                train_acc_per_epoch /= (len(train_dataloader) * batch_size)\n",
        "\n",
        "                # keep track of loss and acc for visualization purposes:\n",
        "                train_loss.append(train_loss_per_epoch)\n",
        "                train_acc.append(train_acc_per_epoch)\n",
        "\n",
        "                eval_loss_per_epoch = 0\n",
        "                eval_acc_per_epoch = 0\n",
        "\n",
        "                with tqdm(eval_dataloader, unit = \"batch\") as eval_epoch:\n",
        "                    eval_epoch.set_description(f\"Evaluation Epoch {epoch}\")\n",
        "\n",
        "                    for step,inputs in enumerate(eval_dataloader):\n",
        "                        inputs = inputs.to(device)\n",
        "                        labels = inputs['labels']\n",
        "\n",
        "                        # Forward pass\n",
        "                        self.optimizer.zero_grad()\n",
        "                        output = model(**inputs)\n",
        "                        logits = output.logits\n",
        "\n",
        "                        # get the loss\n",
        "                        loss = criterion(logits, labels)\n",
        "                        eval_loss_per_epoch += loss.item()\n",
        "\n",
        "                        # Calculate accuracy\n",
        "                        eval_acc_per_epoch += (logits.argmax(1) == labels).sum().item()\n",
        "\n",
        "                eval_loss_per_epoch /= (len(eval_dataloader))\n",
        "                eval_acc_per_epoch /= (len(eval_dataloader)* batch_size)\n",
        "\n",
        "                # keep track of accuracy for vizualization:\n",
        "                eval_acc.append(eval_acc_per_epoch)\n",
        "\n",
        "                print(f'\\ tTrain Loss: {train_loss_per_epoch:.3f} | Train Acc: {train_acc_per_epoch * 100:.2f}%')\n",
        "\n",
        "                print(f'\\ tEval Loss: {eval_loss_per_epoch:.3f} | Eval Acc: {eval_acc_per_epoch * 100:.2f}%')\n",
        "\n",
        "            print(f'Time : {(time.time() - start) / 60:.3f} minutes')\n",
        "\n",
        "        return train_loss, train_acc, eval_acc\n"
      ]
    },
    {
      "cell_type": "markdown",
      "metadata": {},
      "source": [
        "Finally, I define the Hyperparameter to be used during training. "
      ]
    },
    {
      "cell_type": "code",
      "execution_count": 28,
      "metadata": {},
      "outputs": [],
      "source": [
        "from transformers import TrainingArguments\n",
        "\n",
        "training_args = TrainingArguments(\n",
        "    output_dir=\"test_trainer\",\n",
        "    num_train_epochs=1,\n",
        "    evaluation_strategy=\"epoch\",\n",
        "    save_strategy=\"epoch\",\n",
        "    load_best_model_at_end=True\n",
        ")"
      ]
    },
    {
      "cell_type": "markdown",
      "metadata": {},
      "source": [
        "Now the trainer is ready to be used"
      ]
    },
    {
      "cell_type": "code",
      "execution_count": 29,
      "metadata": {},
      "outputs": [
        {
          "name": "stderr",
          "output_type": "stream",
          "text": [
            "Training Epoch 0:  69%|██████▉   | 2298/3339 [03:52<01:45,  9.91batch/s]"
          ]
        }
      ],
      "source": [
        "trainer = CustomTrainer(\n",
        "    model=model,\n",
        "    args=training_args,\n",
        "    train_dataset=small_train_dataset,\n",
        "    eval_dataset=small_train_dataset,\n",
        "    data_collator=data_collator,\n",
        "    compute_metrics=compute_metrics,\n",
        ")\n",
        "\n",
        "loss, acc, val_acc = trainer.train()"
      ]
    },
    {
      "cell_type": "markdown",
      "metadata": {},
      "source": [
        "## Evaluation"
      ]
    },
    {
      "cell_type": "code",
      "execution_count": 23,
      "metadata": {},
      "outputs": [
        {
          "name": "stdout",
          "output_type": "stream",
          "text": [
            "[0.2442042804983824, 0.13853448400897436, 0.09651902729148487, 0.07586506617803694, 0.12154794050307743]\n",
            "[0.9043087064972087, 0.9522805558854971, 0.9689096092172467, 0.9753385200142535, 0.9439957239577147]\n",
            "[0.8738532110091743, 0.8784403669724771, 0.8509174311926605, 0.8486238532110092, 0.7878440366972477]\n"
          ]
        }
      ],
      "source": [
        "print(loss)\n",
        "print(acc)\n",
        "print(val_acc)"
      ]
    },
    {
      "cell_type": "code",
      "execution_count": 26,
      "metadata": {},
      "outputs": [
        {
          "data": {
            "text/plain": [
              "<function matplotlib.pyplot.show(close=None, block=None)>"
            ]
          },
          "execution_count": 26,
          "metadata": {},
          "output_type": "execute_result"
        },
        {
          "data": {
            "image/png": "[encoded data removed]",
            "text/plain": [
              "<Figure size 640x480 with 1 Axes>"
            ]
          },
          "metadata": {},
          "output_type": "display_data"
        }
      ],
      "source": [
        "import matplotlib.pyplot as plt\n",
        "\n",
        "plt.xlabel(\"runs\")\n",
        "plt.ylabel(\"normalised measure of loss/accuracy\")\n",
        "x_len=range(5)\n",
        "plt.axis([0, max(x_len), 0, 1])\n",
        "plt.title('result of MLP')\n",
        "plt.plot(x_len, loss, 'r.',label=\"loss\")\n",
        "plt.plot(x_len, acc, 'b.', label=\"accuracy\")\n",
        "plt.plot(x_len, val_acc, 'g.', label=\"val_accuracy\")\n",
        "plt.legend(bbox_to_anchor=(1.05, 1), loc=2, borderaxespad=0.2)\n",
        "plt.show"
      ]
    },
    {
      "cell_type": "code",
      "execution_count": 12,
      "metadata": {},
      "outputs": [],
      "source": [
        "from transformers import pipeline\n",
        "\n",
        "classifier = pipeline(\"sentiment-analysis\", model=model, tokenizer=tokenizer, device=device)"
      ]
    },
    {
      "cell_type": "code",
      "execution_count": 28,
      "metadata": {},
      "outputs": [
        {
          "data": {
            "text/plain": [
              "('bert_tokenizer/tokenizer_config.json',\n",
              " 'bert_tokenizer/special_tokens_map.json',\n",
              " 'bert_tokenizer/vocab.txt',\n",
              " 'bert_tokenizer/added_tokens.json',\n",
              " 'bert_tokenizer/tokenizer.json')"
            ]
          },
          "execution_count": 28,
          "metadata": {},
          "output_type": "execute_result"
        }
      ],
      "source": [
        "# Save the model\n",
        "torch.save(model.state_dict(), 'bert_model.pth')\n",
        "\n",
        "# Save the tokenizer (if needed)\n",
        "tokenizer.save_pretrained('bert_tokenizer')"
      ]
    },
    {
      "cell_type": "code",
      "execution_count": 49,
      "metadata": {},
      "outputs": [
        {
          "name": "stderr",
          "output_type": "stream",
          "text": [
            "/home/dog_hazard/miniconda3/envs/tf/lib/python3.9/site-packages/transformers/pipelines/base.py:1101: UserWarning: You seem to be using the pipelines sequentially on GPU. In order to maximize efficiency please use a dataset\n",
            "  warnings.warn(\n"
          ]
        }
      ],
      "source": [
        "from random import sample\n",
        "import pandas as pd\n",
        "\n",
        "testing_data = dataset[\"validation\"]\n",
        "len = testing_data.num_rows\n",
        "\n",
        "text_list = []\n",
        "prediction_list = []\n",
        "label_list = []\n",
        "\n",
        "for idx in range(len):\n",
        "    text = testing_data[idx][\"text\"]\n",
        "    label = testing_data[idx][\"label\"]\n",
        "    prediction = label2id[classifier(text)[0][\"label\"]]\n",
        "\n",
        "    if prediction != label:\n",
        "        text_list.append(text)\n",
        "        label_list.append(label)\n",
        "        prediction_list.append(prediction)\n",
        "\n",
        "# Create a DataFrame from the collected data\n",
        "data = {\n",
        "    \"Text\": text_list,\n",
        "    \"Prediction\": prediction_list,\n",
        "    \"Label\": label_list\n",
        "}\n",
        "\n",
        "df = pd.DataFrame(data)\n",
        "\n"
      ]
    },
    {
      "cell_type": "code",
      "execution_count": 54,
      "metadata": {},
      "outputs": [
        {
          "name": "stdout",
          "output_type": "stream",
          "text": [
            "(185, 3)\n",
            "872\n",
            "Fasle positives:  41\n",
            "False negatives:  144\n"
          ]
        }
      ],
      "source": [
        "print(df.shape)\n",
        "print(len)\n",
        "\n",
        "prediction_counts = df['Prediction'].value_counts()\n",
        "\n",
        "# Print the counts\n",
        "print(\"Fasle positives: \", prediction_counts[1])\n",
        "try: \n",
        "    print(\"False negatives: \", prediction_counts[0])\n",
        "except:\n",
        "    print(\"no false negatives\")"
      ]
    },
    {
      "cell_type": "code",
      "execution_count": 52,
      "metadata": {},
      "outputs": [
        {
          "name": "stdout",
          "output_type": "stream",
          "text": [
            "False Positives:\n",
            "\n",
            "the title not only describes its main characters , but the lazy people behind the camera as well . \n",
            "\n",
            "for all its impressive craftsmanship , and despite an overbearing series of third-act crescendos , lily chou-chou never really builds up a head of emotional steam . \n",
            "\n",
            "this is a train wreck of an action film -- a stupefying attempt by the filmmakers to force-feed james bond into the mindless xxx mold and throw 40 years of cinematic history down the toilet in favor of bright flashes and loud bangs . \n",
            "\n",
            "you wo n't like roger , but you will quickly recognize him . \n",
            "\n",
            "his last movie was poetically romantic and full of indelible images , but his latest has nothing going for it . \n",
            "\n",
            "there is n't nearly enough fun here , despite the presence of some appealing ingredients . \n",
            "\n",
            "it seems to me the film is about the art of ripping people off without ever letting them consciously know you have done so \n",
            "\n",
            "the tale of tok ( andy lau ) , a sleek sociopath on the trail of o ( takashi sorimachi ) , the most legendary of asian hitmen , is too scattershot to take hold . \n",
            "\n",
            "the character of zigzag is not sufficiently developed to support a film constructed around him . \n",
            "\n",
            "the talented and clever robert rodriguez perhaps put a little too much heart into his first film and did n't reserve enough for his second . \n",
            "\n",
            "\n",
            "False Negatives:\n",
            "\n",
            "we root for ( clara and paul ) , even like them , though perhaps it 's an emotion closer to pity . \n",
            "\n",
            "seldom has a movie so closely matched the spirit of a man and his work . \n",
            "\n",
            "mr. tsai is a very original artist in his medium , and what time is it there ? \n",
            "\n",
            "this is a story of two misfits who do n't stand a chance alone , but together they are magnificent . \n",
            "\n",
            "if you 're hard up for raunchy college humor , this is your ticket right here . \n",
            "\n",
            "good old-fashioned slash-and-hack is back ! \n",
            "\n",
            "one of creepiest , scariest movies to come along in a long , long time , easily rivaling blair witch or the others . \n",
            "\n",
            "there is nothing outstanding about this film , but it is good enough and will likely be appreciated most by sailors and folks who know their way around a submarine . \n",
            "\n",
            "though it 's become almost redundant to say so , major kudos go to leigh for actually casting people who look working-class . \n",
            "\n",
            "jaglom ... put ( s ) the audience in the privileged position of eavesdropping on his characters \n",
            "\n"
          ]
        }
      ],
      "source": [
        "false_positive = df[df['Prediction'] == 1]\n",
        "\n",
        "false_negative = df[df['Prediction'] == 0]\n",
        "\n",
        "print(\"False Positives:\\n\")\n",
        "for text in false_positive['Text'].head(10): \n",
        "    print(text + \"\\n\")\n",
        "\n",
        "print(\"\\nFalse Negatives:\\n\")\n",
        "for text in false_negative['Text'].head(10):  \n",
        "    print(text + \"\\n\")\n"
      ]
    },
    {
      "cell_type": "markdown",
      "metadata": {},
      "source": [
        "# Citations"
      ]
    },
    {
      "cell_type": "markdown",
      "metadata": {},
      "source": [
        "I used the following resources to complete this homework:"
      ]
    },
    {
      "cell_type": "markdown",
      "metadata": {},
      "source": [
        "Dataset: https://huggingface.co/datasets/sst2/viewer/default/train\n",
        "\n",
        "Model: https://huggingface.co/bert-base-uncased\n",
        "\n",
        "Shirley's Presentation on September 19: https://docs.google.com/presentation/d/19AVdYw2ezOprQuBBumICEbfNpvJ-pVVURiOb7aQDjdo/edit#slide=id.g27c35a91bda_0_0\n",
        "\n",
        "Shirley's jupyter notebook: https://colab.research.google.com/drive/1sMCEi6zXP8AQLoCrXf-QmiwoXB5v57wy\n",
        "\n",
        "PyTorch programming tutorial from September 14: https://docs.google.com/presentation/d/1DNWnMJYswVhzo7hmI9mZLNhjPc8rNXsERM1bvFSE6Fo/edit#slide=id.g27d93a5fe38_0_92\n",
        "\n",
        "PyTorch programming tutorial jupyter notebook: https://colab.research.google.com/drive/1Mely63oAnovTKoW82w1NuVJvs9HH5dqd?authuser=1\n",
        "\n",
        "The homework assignment's custom trainer: https://dykang.github.io/classes/csci5541/F23/hw/CSCI_5541_F23_HW1.pdf\n",
        "\n",
        "Hugging Face Tutorial: https://huggingface.co/docs/transformers/training\n",
        "\n",
        "Original Paper: https://arxiv.org/pdf/1910.10683v4.pdf"
      ]
    },
    {
      "cell_type": "markdown",
      "metadata": {},
      "source": [
        "## Chat GPT Prompts"
      ]
    },
    {
      "cell_type": "markdown",
      "metadata": {},
      "source": [
        "write me a brief description of the NLP task binary sentiment classification\n",
        "\n",
        "How can I get the model's predictions from the input data during the forward pass when fine-tuning a pre-trained model?\n",
        "\n",
        "For loss calculation using CrossEntropyLoss, what's the correct way to compute the loss between the model's predictions (logits) and the labels?\n",
        "\n",
        "Could you provide guidance on implementing an effective evaluation loop to assess the model's performance on the evaluation dataset, including both loss and accuracy calculations?\n",
        "\n",
        "give an explanation of how binary cross-entropy is calculated, with an equation\n",
        "\n",
        "list ways to improve the score of my NLP model, if it is over-fit\n",
        "\n",
        "write a brief description of bert based uncased\n",
        "\n",
        "write a brief description of sst2 dataset for binary sentiment classification"
      ]
    }
  ],
  "metadata": {
    "colab": {
      "provenance": []
    },
    "kernelspec": {
      "display_name": "tf",
      "language": "python",
      "name": "python3"
    },
    "language_info": {
      "codemirror_mode": {
        "name": "ipython",
        "version": 3
      },
      "file_extension": ".py",
      "mimetype": "text/x-python",
      "name": "python",
      "nbconvert_exporter": "python",
      "pygments_lexer": "ipython3",
      "version": "3.9.17"
    }
  },
  "nbformat": 4,
  "nbformat_minor": 0
}
